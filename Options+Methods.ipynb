{
 "cells": [
  {
   "cell_type": "code",
   "execution_count": 1,
   "metadata": {
    "collapsed": true
   },
   "outputs": [],
   "source": [
    "import numpy as np\n",
    "import math as m\n",
    "import timeit\n",
    "import scipy\n",
    "from scipy.stats import norm\n",
    "import matplotlib.pyplot as plt"
   ]
  },
  {
   "cell_type": "markdown",
   "metadata": {},
   "source": [
    "# Options Pricing Model Paper"
   ]
  },
  {
   "cell_type": "markdown",
   "metadata": {},
   "source": [
    "## Black Scholes "
   ]
  },
  {
   "cell_type": "code",
   "execution_count": 46,
   "metadata": {
    "collapsed": false
   },
   "outputs": [
    {
     "name": "stderr",
     "output_type": "stream",
     "text": [
      "C:\\Users\\TanayT\\Anaconda3\\lib\\site-packages\\ipykernel\\__main__.py:15: RuntimeWarning: invalid value encountered in true_divide\n",
      "C:\\Users\\TanayT\\Anaconda3\\lib\\site-packages\\ipykernel\\__main__.py:16: RuntimeWarning: invalid value encountered in true_divide\n",
      "C:\\Users\\TanayT\\Anaconda3\\lib\\site-packages\\scipy\\stats\\_distn_infrastructure.py:875: RuntimeWarning: invalid value encountered in greater\n",
      "  return (self.a < x) & (x < self.b)\n",
      "C:\\Users\\TanayT\\Anaconda3\\lib\\site-packages\\scipy\\stats\\_distn_infrastructure.py:875: RuntimeWarning: invalid value encountered in less\n",
      "  return (self.a < x) & (x < self.b)\n",
      "C:\\Users\\TanayT\\Anaconda3\\lib\\site-packages\\scipy\\stats\\_distn_infrastructure.py:1731: RuntimeWarning: invalid value encountered in greater_equal\n",
      "  cond2 = (x >= self.b) & cond0\n"
     ]
    }
   ],
   "source": [
    "m=5 #time steps\n",
    "K=100 #strike price\n",
    "r=0.05 #risk free rate\n",
    "T=20/36 #strike time\n",
    "sigma=0.30 #implied volatiity\n",
    "\n",
    "time = scipy.linspace (0.0, T , m ) #time series\n",
    "S = 100 # stock price\n",
    "\n",
    "logSoverK = scipy . log ( S / K )\n",
    "n12 = (( r + sigma **2/2) *( T - time ) )\n",
    "n22 = (( r - sigma **2/2) *( T - time ) )\n",
    "numerd1 = logSoverK + n12 \n",
    "numerd2 = logSoverK  + n22\n",
    "d1 = numerd1 /( sigma * scipy . sqrt (T - time )) \n",
    "d2 = numerd2 /( sigma * scipy . sqrt (T - time ))\n",
    "\n",
    "part1 = S * norm . cdf ( d1 )\n",
    "part2 = norm.cdf(d2) * K * scipy.exp( - r *( T - time ) ) \n",
    "VC=part1-part2\n",
    "\n",
    "#scipy.column_stack((scipy.transpose(S),scipy.transpose(VC)))\n",
    "\n"
   ]
  },
  {
   "cell_type": "code",
   "execution_count": 47,
   "metadata": {
    "collapsed": false
   },
   "outputs": [
    {
     "data": {
      "text/plain": [
       "array([ 10.21728253,   8.70879925,   6.97153122,   4.79714021,          nan])"
      ]
     },
     "execution_count": 47,
     "metadata": {},
     "output_type": "execute_result"
    }
   ],
   "source": [
    "VC"
   ]
  },
  {
   "cell_type": "markdown",
   "metadata": {},
   "source": [
    "## Binomial Options Pricing "
   ]
  },
  {
   "cell_type": "markdown",
   "metadata": {},
   "source": [
    "My notation here is based on the original Cox, Ross and Rubinstein paper."
   ]
  },
  {
   "cell_type": "code",
   "execution_count": 8,
   "metadata": {
    "collapsed": true
   },
   "outputs": [],
   "source": [
    "import numpy as np\n",
    "import math as m\n",
    "import timeit\n",
    "\n",
    "def bop(n,t,S,v):\n",
    "    dt = t/n\n",
    "    u = m.exp(v*m.sqrt(dt))\n",
    "    d = 1/u\n",
    "    Pm = np.zeros((n+1, n+1))\n",
    "    for j in range(n+1):\n",
    "        for i in range(j+1):\n",
    "            Pm[i,j] = S*m.pow(d,i) * m.pow(u,j-i)\n",
    "    return Pm"
   ]
  },
  {
   "cell_type": "markdown",
   "metadata": {},
   "source": [
    "I generated the pricing tree for a few n values..."
   ]
  },
  {
   "cell_type": "code",
   "execution_count": 9,
   "metadata": {
    "collapsed": false
   },
   "outputs": [
    {
     "name": "stdout",
     "output_type": "stream",
     "text": [
      "n = 5:\n",
      " [[100 110 121 134 148 164]\n",
      " [  0  90 100 110 121 134]\n",
      " [  0   0  81  90 100 110]\n",
      " [  0   0   0  74  81  90]\n",
      " [  0   0   0   0  67  74]\n",
      " [  0   0   0   0   0  60]]\n",
      "n = 17:\n",
      " [[100 105 111 117 124 130 138 145 153 162 171 180 190 201 212 224 236 249]\n",
      " [  0  94 100 105 111 117 124 130 138 145 153 162 171 180 190 201 212 224]\n",
      " [  0   0  89  94 100 105 111 117 124 130 138 145 153 162 171 180 190 201]\n",
      " [  0   0   0  85  89  94  99 105 111 117 124 130 138 145 153 162 171 180]\n",
      " [  0   0   0   0  80  85  89  94 100 105 111 117 124 130 138 145 153 162]\n",
      " [  0   0   0   0   0  76  80  85  89  94 100 105 111 117 124 130 138 145]\n",
      " [  0   0   0   0   0   0  72  76  80  85  89  94  99 105 111 117 124 130]\n",
      " [  0   0   0   0   0   0   0  68  72  76  80  85  89  94  99 105 111 117]\n",
      " [  0   0   0   0   0   0   0   0  64  68  72  76  80  85  89  94 100 105]\n",
      " [  0   0   0   0   0   0   0   0   0  61  64  68  72  76  80  85  89  94]\n",
      " [  0   0   0   0   0   0   0   0   0   0  58  61  64  68  72  76  80  85]\n",
      " [  0   0   0   0   0   0   0   0   0   0   0  55  58  61  64  68  72  76]\n",
      " [  0   0   0   0   0   0   0   0   0   0   0   0  52  55  58  61  64  68]\n",
      " [  0   0   0   0   0   0   0   0   0   0   0   0   0  49  52  55  58  61]\n",
      " [  0   0   0   0   0   0   0   0   0   0   0   0   0   0  47  49  52  55]\n",
      " [  0   0   0   0   0   0   0   0   0   0   0   0   0   0   0  44  47  49]\n",
      " [  0   0   0   0   0   0   0   0   0   0   0   0   0   0   0   0  42  44]\n",
      " [  0   0   0   0   0   0   0   0   0   0   0   0   0   0   0   0   0  40]]\n"
     ]
    }
   ],
   "source": [
    "n = 5\n",
    "t = 200/365\n",
    "S = 100\n",
    "v = .3\n",
    "x = bop(n,t,S,v)\n",
    "n = 17\n",
    "z = bop(n,t,S,v)\n",
    "\n",
    "print('n = 5:\\n',np.matrix(x.astype(int)))\n",
    "print('n = 17:\\n',np.matrix(z.astype(int)))"
   ]
  },
  {
   "cell_type": "markdown",
   "metadata": {},
   "source": [
    "After noticing the recursive pattern in the tree, I generated the set of all unique numbers in the matrix as an ordered 1d array and looped through the elements of the pricing matrix calling values from the unique set."
   ]
  },
  {
   "cell_type": "code",
   "execution_count": 10,
   "metadata": {
    "collapsed": false
   },
   "outputs": [
    {
     "name": "stdout",
     "output_type": "stream",
     "text": [
      "n = 17:\n",
      " [[100 105 111 117 124 130 138 145 153 162 171 180 190 201 212 224 236 249]\n",
      " [  0  94 100 105 111 117 124 130 138 145 153 162 171 180 190 201 212 224]\n",
      " [  0   0  89  94 100 105 111 117 124 130 138 145 153 162 171 180 190 201]\n",
      " [  0   0   0  85  89  94 100 105 111 117 124 130 138 145 153 162 171 180]\n",
      " [  0   0   0   0  80  85  89  94 100 105 111 117 124 130 138 145 153 162]\n",
      " [  0   0   0   0   0  76  80  85  89  94 100 105 111 117 124 130 138 145]\n",
      " [  0   0   0   0   0   0  72  76  80  85  89  94 100 105 111 117 124 130]\n",
      " [  0   0   0   0   0   0   0  68  72  76  80  85  89  94 100 105 111 117]\n",
      " [  0   0   0   0   0   0   0   0  64  68  72  76  80  85  89  94 100 105]\n",
      " [  0   0   0   0   0   0   0   0   0  61  64  68  72  76  80  85  89  94]\n",
      " [  0   0   0   0   0   0   0   0   0   0  58  61  64  68  72  76  80  85]\n",
      " [  0   0   0   0   0   0   0   0   0   0   0  55  58  61  64  68  72  76]\n",
      " [  0   0   0   0   0   0   0   0   0   0   0   0  52  55  58  61  64  68]\n",
      " [  0   0   0   0   0   0   0   0   0   0   0   0   0  49  52  55  58  61]\n",
      " [  0   0   0   0   0   0   0   0   0   0   0   0   0   0  47  49  52  55]\n",
      " [  0   0   0   0   0   0   0   0   0   0   0   0   0   0   0  44  47  49]\n",
      " [  0   0   0   0   0   0   0   0   0   0   0   0   0   0   0   0  42  44]\n",
      " [  0   0   0   0   0   0   0   0   0   0   0   0   0   0   0   0   0  40]]\n"
     ]
    }
   ],
   "source": [
    "def better_bop(n,t,S,v):\n",
    "    dt = t/n\n",
    "    u = m.exp(v*m.sqrt(dt))\n",
    "    d = 1/u\n",
    "    ups = np.zeros(n+1)\n",
    "    dwns = np.zeros(n+1)\n",
    "    tot = np.zeros(2*n+1)\n",
    "    Pm = np.zeros((n+1, n+1))\n",
    "    tmp = np.zeros((2,n+1))\n",
    "    for j in range(n+1):\n",
    "        tmp[0,j] = S*m.pow(d,j)\n",
    "        tmp[1,j] = S*m.pow(u,j)\n",
    "    tot = np.unique(tmp)\n",
    "    c = n\n",
    "    for i in range(c+1):\n",
    "        for j in range(c+1):\n",
    "            Pm[i,j-c-1] = tot[(n-i)+j]\n",
    "        c=c-1\n",
    "    return Pm\n",
    "trial = better_bop(n,t,S,v)\n",
    "print('n = 17:\\n',np.matrix(trial.astype(int)))"
   ]
  },
  {
   "cell_type": "markdown",
   "metadata": {},
   "source": [
    "Testing for consistency and timing..."
   ]
  },
  {
   "cell_type": "code",
   "execution_count": 11,
   "metadata": {
    "collapsed": false
   },
   "outputs": [
    {
     "name": "stdout",
     "output_type": "stream",
     "text": [
      "10000 loops, best of 3: 147 µs per loop\n"
     ]
    }
   ],
   "source": [
    "%%timeit\n",
    "method1 = bop(n,t,S,v)"
   ]
  },
  {
   "cell_type": "code",
   "execution_count": 12,
   "metadata": {
    "collapsed": false
   },
   "outputs": [
    {
     "name": "stdout",
     "output_type": "stream",
     "text": [
      "10000 loops, best of 3: 84.7 µs per loop\n"
     ]
    }
   ],
   "source": [
    "%%timeit\n",
    "method2 = better_bop(n,t,S,v)"
   ]
  },
  {
   "cell_type": "code",
   "execution_count": 13,
   "metadata": {
    "collapsed": false
   },
   "outputs": [
    {
     "name": "stdout",
     "output_type": "stream",
     "text": [
      "\n",
      "Consistent entries?:  True\n"
     ]
    }
   ],
   "source": [
    "method1 = bop(n,t,S,v)\n",
    "method2 = better_bop(n,t,S,v)\n",
    "print('\\nConsistent entries?: ' , np.allclose(method1,method2)) #tests if the matrices are equal"
   ]
  },
  {
   "cell_type": "markdown",
   "metadata": {},
   "source": [
    "Method 2 performs much quicker giving the same results."
   ]
  },
  {
   "cell_type": "markdown",
   "metadata": {},
   "source": [
    "## Working Backwards to find the value of the option"
   ]
  },
  {
   "cell_type": "markdown",
   "metadata": {},
   "source": [
    "From here, I determined the value of the option based on stike price and value at earlier nodes (as shown in the paper) was very simple to implement in this matrix."
   ]
  },
  {
   "cell_type": "code",
   "execution_count": 14,
   "metadata": {
    "collapsed": true
   },
   "outputs": [],
   "source": [
    "def OptionsVal(n, S, K, r, v, T, PC):\n",
    "    dt = T/n                    \n",
    "    u = m.exp(v*m.sqrt(dt)) \n",
    "    d = 1/u                     \n",
    "    p = (m.exp(r*dt)-d)/(u-d)   \n",
    "    Pm = np.zeros((n+1, n+1))   \n",
    "    Cm = np.zeros((n+1, n+1))\n",
    "    tmp = np.zeros((2,n+1))\n",
    "    for j in range(n+1):\n",
    "        tmp[0,j] = S*m.pow(d,j)\n",
    "        tmp[1,j] = S*m.pow(u,j)\n",
    "    tot = np.unique(tmp)\n",
    "    c = n\n",
    "    for i in range(c+1):\n",
    "        for j in range(c+1):\n",
    "            Pm[i,j-c-1] = tot[(n-i)+j]\n",
    "        c=c-1\n",
    "    for j in range(n+1, 0, -1):\n",
    "        for i in range(j):\n",
    "            if (PC == 1):                               \n",
    "                if(j == n+1):\n",
    "                    Cm[i,j-1] = max(K-Pm[i,j-1], 0)     \n",
    "                else:\n",
    "                    Cm[i,j-1] = m.exp(-.05*dt) * (p*Cm[i,j] + (1-p)*Cm[i+1,j]) \n",
    "            if (PC == 0):                               \n",
    "                if (j == n + 1):\n",
    "                    Cm[i,j-1] = max(Pm[i,j-1]-K, 0)     \n",
    "                else:\n",
    "                    Cm[i,j-1] = m.exp(-.05*dt) * (p*Cm[i,j] + (1-p)*Cm[i+1,j])  \n",
    "    return [Pm,Cm]"
   ]
  },
  {
   "cell_type": "code",
   "execution_count": 22,
   "metadata": {
    "collapsed": false
   },
   "outputs": [
    {
     "name": "stdout",
     "output_type": "stream",
     "text": [
      "Pricing:\n",
      " [[100 105 111 117 124 131 138 146 154 162 172 181 191 202 213 225 238 251]\n",
      " [  0  94 100 105 111 117 124 131 138 146 154 162 172 181 191 202 213 225]\n",
      " [  0   0  89  94 100 105 111 117 124 131 138 146 154 162 172 181 191 202]\n",
      " [  0   0   0  84  89  94 100 105 111 117 124 131 138 146 154 162 172 181]\n",
      " [  0   0   0   0  80  84  89  94 100 105 111 117 124 131 138 146 154 162]\n",
      " [  0   0   0   0   0  76  80  84  89  94 100 105 111 117 124 131 138 146]\n",
      " [  0   0   0   0   0   0  72  76  80  84  89  94 100 105 111 117 124 131]\n",
      " [  0   0   0   0   0   0   0  68  72  76  80  84  89  94 100 105 111 117]\n",
      " [  0   0   0   0   0   0   0   0  64  68  72  76  80  84  89  94 100 105]\n",
      " [  0   0   0   0   0   0   0   0   0  61  64  68  72  76  80  84  89  94]\n",
      " [  0   0   0   0   0   0   0   0   0   0  58  61  64  68  72  76  80  84]\n",
      " [  0   0   0   0   0   0   0   0   0   0   0  55  58  61  64  68  72  76]\n",
      " [  0   0   0   0   0   0   0   0   0   0   0   0  52  55  58  61  64  68]\n",
      " [  0   0   0   0   0   0   0   0   0   0   0   0   0  49  52  55  58  61]\n",
      " [  0   0   0   0   0   0   0   0   0   0   0   0   0   0  46  49  52  55]\n",
      " [  0   0   0   0   0   0   0   0   0   0   0   0   0   0   0  44  46  49]\n",
      " [  0   0   0   0   0   0   0   0   0   0   0   0   0   0   0   0  41  44]\n",
      " [  0   0   0   0   0   0   0   0   0   0   0   0   0   0   0   0   0  39]]\n",
      "Call Option:\n",
      " [[ 10  13  17  22  27  33  40  47  55  64  73  82  92 103 114 125 138 151]\n",
      " [  0   7   9  12  16  21  26  33  40  47  55  63  72  82  92 102 113 125]\n",
      " [  0   0   4   6   8  12  16  20  26  32  39  47  55  63  72  81  91 102]\n",
      " [  0   0   0   2   4   5   8  11  15  20  25  32  39  46  54  63  72  81]\n",
      " [  0   0   0   0   1   2   3   5   7  10  14  19  25  31  38  46  54  62]\n",
      " [  0   0   0   0   0   0   1   1   2   4   6   9  13  18  24  31  38  46]\n",
      " [  0   0   0   0   0   0   0   0   0   1   2   3   5   8  12  17  24  31]\n",
      " [  0   0   0   0   0   0   0   0   0   0   0   0   1   2   4   7  11  17]\n",
      " [  0   0   0   0   0   0   0   0   0   0   0   0   0   0   0   1   2   5]\n",
      " [  0   0   0   0   0   0   0   0   0   0   0   0   0   0   0   0   0   0]\n",
      " [  0   0   0   0   0   0   0   0   0   0   0   0   0   0   0   0   0   0]\n",
      " [  0   0   0   0   0   0   0   0   0   0   0   0   0   0   0   0   0   0]\n",
      " [  0   0   0   0   0   0   0   0   0   0   0   0   0   0   0   0   0   0]\n",
      " [  0   0   0   0   0   0   0   0   0   0   0   0   0   0   0   0   0   0]\n",
      " [  0   0   0   0   0   0   0   0   0   0   0   0   0   0   0   0   0   0]\n",
      " [  0   0   0   0   0   0   0   0   0   0   0   0   0   0   0   0   0   0]\n",
      " [  0   0   0   0   0   0   0   0   0   0   0   0   0   0   0   0   0   0]\n",
      " [  0   0   0   0   0   0   0   0   0   0   0   0   0   0   0   0   0   0]]\n",
      "Put Option:\n",
      " [[ 7  5  3  2  1  0  0  0  0  0  0  0  0  0  0  0  0  0]\n",
      " [ 0  9  7  5  3  1  0  0  0  0  0  0  0  0  0  0  0  0]\n",
      " [ 0  0 12  9  6  4  2  1  0  0  0  0  0  0  0  0  0  0]\n",
      " [ 0  0  0 15 12  9  6  4  2  1  0  0  0  0  0  0  0  0]\n",
      " [ 0  0  0  0 18 15 11  8  5  3  1  0  0  0  0  0  0  0]\n",
      " [ 0  0  0  0  0 22 18 15 11  8  5  2  1  0  0  0  0  0]\n",
      " [ 0  0  0  0  0  0 26 22 18 15 11  7  4  2  0  0  0  0]\n",
      " [ 0  0  0  0  0  0  0 30 26 22 18 14 10  7  3  1  0  0]\n",
      " [ 0  0  0  0  0  0  0  0 33 30 26 22 18 14 10  6  2  0]\n",
      " [ 0  0  0  0  0  0  0  0  0 37 34 30 26 23 19 14 10  5]\n",
      " [ 0  0  0  0  0  0  0  0  0  0 40 37 34 30 27 23 19 15]\n",
      " [ 0  0  0  0  0  0  0  0  0  0  0 43 41 37 34 31 27 23]\n",
      " [ 0  0  0  0  0  0  0  0  0  0  0  0 47 44 41 38 35 31]\n",
      " [ 0  0  0  0  0  0  0  0  0  0  0  0  0 49 47 44 41 38]\n",
      " [ 0  0  0  0  0  0  0  0  0  0  0  0  0  0 52 50 47 44]\n",
      " [ 0  0  0  0  0  0  0  0  0  0  0  0  0  0  0 55 53 50]\n",
      " [ 0  0  0  0  0  0  0  0  0  0  0  0  0  0  0  0 57 55]\n",
      " [ 0  0  0  0  0  0  0  0  0  0  0  0  0  0  0  0  0 60]]\n"
     ]
    }
   ],
   "source": [
    "S = 100\n",
    "k = 100\n",
    "r = .05\n",
    "v = .3\n",
    "T = 20/36\n",
    "n = 17\n",
    "PC = 0\n",
    "Pm,CmC = OptionsVal(n,S,k,r,v,T,PC)\n",
    "PC = 1\n",
    "_,CmP= OptionsVal(n, S, k, r, v, T, PC)\n",
    "print('Pricing:\\n',np.matrix(Pm.astype(int)))\n",
    "print('Call Option:\\n',np.matrix(CmC.astype(int)))\n",
    "print('Put Option:\\n',np.matrix(CmP.astype(int)))"
   ]
  },
  {
   "cell_type": "markdown",
   "metadata": {
    "collapsed": true
   },
   "source": [
    "## Error Accumulation Between Two Methods"
   ]
  },
  {
   "cell_type": "code",
   "execution_count": 39,
   "metadata": {
    "collapsed": false
   },
   "outputs": [
    {
     "data": {
      "text/plain": [
       "numpy.float64"
      ]
     },
     "execution_count": 39,
     "metadata": {},
     "output_type": "execute_result"
    }
   ],
   "source": [
    "type(CmC[1,1])"
   ]
  },
  {
   "cell_type": "code",
   "execution_count": 36,
   "metadata": {
    "collapsed": false
   },
   "outputs": [
    {
     "data": {
      "text/plain": [
       "18"
      ]
     },
     "execution_count": 36,
     "metadata": {},
     "output_type": "execute_result"
    }
   ],
   "source": [
    "CmC.shape[1]"
   ]
  },
  {
   "cell_type": "code",
   "execution_count": 40,
   "metadata": {
    "collapsed": false
   },
   "outputs": [
    {
     "name": "stdout",
     "output_type": "stream",
     "text": [
      "10.3431748302\n",
      "7.13944312261\n",
      "4.6226679354\n",
      "2.7588220853\n",
      "1.48054109593\n",
      "0.688577830495\n",
      "0.261364819933\n",
      "0.0723485357168\n",
      "0.0110219039948\n",
      "0.0\n",
      "0.0\n",
      "0.0\n",
      "0.0\n",
      "0.0\n",
      "0.0\n",
      "0.0\n",
      "0.0\n",
      "0.0\n"
     ]
    }
   ],
   "source": [
    "for i in range(CmC.shape[1]):\n",
    "    print(CmC[i,i])"
   ]
  },
  {
   "cell_type": "code",
   "execution_count": 51,
   "metadata": {
    "collapsed": false
   },
   "outputs": [
    {
     "data": {
      "text/plain": [
       "1.2321505181400323"
      ]
     },
     "execution_count": 51,
     "metadata": {},
     "output_type": "execute_result"
    }
   ],
   "source": [
    "(CmC[0,0]-VC[0])/(VC[0])*100"
   ]
  },
  {
   "cell_type": "markdown",
   "metadata": {},
   "source": [
    "The conclusion of this error analysis is that if we take the Black Scholes value to be the accepted value of the option at time t=0, the method developed has 1.23% error."
   ]
  },
  {
   "cell_type": "code",
   "execution_count": null,
   "metadata": {
    "collapsed": true
   },
   "outputs": [],
   "source": []
  }
 ],
 "metadata": {
  "anaconda-cloud": {},
  "kernelspec": {
   "display_name": "Python [default]",
   "language": "python",
   "name": "python3"
  },
  "language_info": {
   "codemirror_mode": {
    "name": "ipython",
    "version": 3
   },
   "file_extension": ".py",
   "mimetype": "text/x-python",
   "name": "python",
   "nbconvert_exporter": "python",
   "pygments_lexer": "ipython3",
   "version": "3.5.2"
  }
 },
 "nbformat": 4,
 "nbformat_minor": 1
}
